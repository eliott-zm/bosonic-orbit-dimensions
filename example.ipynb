{
 "cells": [
  {
   "cell_type": "code",
   "execution_count": 4,
   "id": "513f0423",
   "metadata": {},
   "outputs": [],
   "source": [
    "from bosonic_orbit_dimensions import *"
   ]
  },
  {
   "cell_type": "markdown",
   "id": "e3271114",
   "metadata": {},
   "source": [
    "Calculating orbit dimensions of two different states"
   ]
  },
  {
   "cell_type": "code",
   "execution_count": 12,
   "id": "5c540a23",
   "metadata": {},
   "outputs": [
    {
     "name": "stdout",
     "output_type": "stream",
     "text": [
      "PLO, ket: input dim=11, output dim=10\n",
      "PLO, dens: input dim=10, output dim=9\n",
      "DPLO, ket: input dim=19, output dim=18\n",
      "DPLO, dens: input dim=18, output dim=17\n",
      "ALO, ket: input dim=31, output dim=30\n",
      "ALO, dens: input dim=30, output dim=29\n",
      "GO, ket: input dim=39, output dim=38\n",
      "GO, dens: input dim=38, output dim=37\n"
     ]
    }
   ],
   "source": [
    "#create the input state |+,0>_L = (1/sqrt(2)) * ( |1010> + |0110> )\n",
    "psi_in = defaultdict(complex, {(1,0,1,0): 1/np.sqrt(2), (0,1,1,0): 1/np.sqrt(2)})\n",
    "rho_in = ket_to_dens(psi_in)\n",
    "#create the corresponding output state CNOT_L|+,0>_L = |Bell^00>_L = (1/sqrt(2)) * ( |1010> + |0101> )\n",
    "psi_out = defaultdict(complex, {(1,0,1,0): 1/np.sqrt(2), (0,1,0,1): 1/np.sqrt(2)})\n",
    "rho_out = ket_to_dens(psi_out)\n",
    "\n",
    "for algebra in (\"PLO\", \"DPLO\", \"ALO\", \"GO\"):\n",
    "    print(f\"{algebra}, ket: input dim={compute_ket_orbit_dim(psi_in, algebra)}, output dim={compute_ket_orbit_dim(psi_out, algebra)}\")\n",
    "    print(f\"{algebra}, dens: input dim={compute_dens_orbit_dim(rho_in, algebra)}, output dim={compute_dens_orbit_dim(rho_out, algebra)}\")\n",
    "\n"
   ]
  },
  {
   "cell_type": "markdown",
   "id": "fe2c4fcc",
   "metadata": {},
   "source": [
    "Compute the Gram matrix associated to a state"
   ]
  },
  {
   "cell_type": "code",
   "execution_count": 16,
   "id": "1f06572b",
   "metadata": {},
   "outputs": [
    {
     "data": {
      "text/plain": [
       "array([[ 0.  ,  0.  ,  0.  ,  0.  ,  0.  ,  0.  ,  0.  ,  0.  ,  0.  ,\n",
       "         0.  ,  0.  ,  0.  ,  0.  ,  0.  ,  0.  ,  0.  ],\n",
       "       [ 0.  ,  0.5 ,  0.  ,  0.  ,  0.  ,  0.  ,  0.  ,  0.  ,  0.  ,\n",
       "         0.  ,  0.  ,  0.  ,  0.  ,  0.  ,  0.  ,  0.  ],\n",
       "       [ 0.  ,  0.  ,  1.25,  0.  ,  0.  ,  0.  ,  0.75,  0.  ,  0.  ,\n",
       "         0.  ,  0.  ,  0.  ,  0.  ,  0.  ,  0.  ,  0.  ],\n",
       "       [ 0.  ,  0.  ,  0.  ,  1.25,  0.  ,  0.  ,  0.  ,  0.75,  0.  ,\n",
       "         0.  ,  0.  ,  0.  ,  0.  ,  0.  ,  0.  ,  0.  ],\n",
       "       [ 0.  ,  0.  ,  0.  ,  0.  ,  0.25,  0.  ,  0.  ,  0.  ,  0.25,\n",
       "         0.  ,  0.  ,  0.  ,  0.  ,  0.  ,  0.  ,  0.  ],\n",
       "       [ 0.  ,  0.  ,  0.  ,  0.  ,  0.  ,  0.25,  0.  ,  0.  ,  0.  ,\n",
       "         0.25,  0.  ,  0.  ,  0.  ,  0.  ,  0.  ,  0.  ],\n",
       "       [ 0.  ,  0.  ,  0.75,  0.  ,  0.  ,  0.  ,  1.25,  0.  ,  0.  ,\n",
       "         0.  ,  0.  ,  0.  ,  0.  ,  0.  ,  0.  ,  0.  ],\n",
       "       [ 0.  ,  0.  ,  0.  ,  0.75,  0.  ,  0.  ,  0.  ,  1.25,  0.  ,\n",
       "         0.  ,  0.  ,  0.  ,  0.  ,  0.  ,  0.  ,  0.  ],\n",
       "       [ 0.  ,  0.  ,  0.  ,  0.  ,  0.25,  0.  ,  0.  ,  0.  ,  0.25,\n",
       "         0.  ,  0.  ,  0.  ,  0.  ,  0.  ,  0.  ,  0.  ],\n",
       "       [ 0.  ,  0.  ,  0.  ,  0.  ,  0.  ,  0.25,  0.  ,  0.  ,  0.  ,\n",
       "         0.25,  0.  ,  0.  ,  0.  ,  0.  ,  0.  ,  0.  ],\n",
       "       [ 0.  ,  0.  ,  0.  ,  0.  ,  0.  ,  0.  ,  0.  ,  0.  ,  0.  ,\n",
       "         0.  ,  0.5 ,  0.  ,  0.  ,  0.  ,  0.  ,  0.  ],\n",
       "       [ 0.  ,  0.  ,  0.  ,  0.  ,  0.  ,  0.  ,  0.  ,  0.  ,  0.  ,\n",
       "         0.  ,  0.  ,  0.5 ,  0.  ,  0.  ,  0.  ,  0.  ],\n",
       "       [ 0.  ,  0.  ,  0.  ,  0.  ,  0.  ,  0.  ,  0.  ,  0.  ,  0.  ,\n",
       "         0.  ,  0.  ,  0.  ,  0.5 , -0.5 ,  0.  ,  0.  ],\n",
       "       [ 0.  ,  0.  ,  0.  ,  0.  ,  0.  ,  0.  ,  0.  ,  0.  ,  0.  ,\n",
       "         0.  ,  0.  ,  0.  , -0.5 ,  0.5 ,  0.  ,  0.  ],\n",
       "       [ 0.  ,  0.  ,  0.  ,  0.  ,  0.  ,  0.  ,  0.  ,  0.  ,  0.  ,\n",
       "         0.  ,  0.  ,  0.  ,  0.  ,  0.  ,  0.  ,  0.  ],\n",
       "       [ 0.  ,  0.  ,  0.  ,  0.  ,  0.  ,  0.  ,  0.  ,  0.  ,  0.  ,\n",
       "         0.  ,  0.  ,  0.  ,  0.  ,  0.  ,  0.  ,  0.  ]])"
      ]
     },
     "execution_count": 16,
     "metadata": {},
     "output_type": "execute_result"
    }
   ],
   "source": [
    "compute_Gdens_matrix(rho_in, algebra='PLO').real"
   ]
  }
 ],
 "metadata": {
  "kernelspec": {
   "display_name": "bosonic-orbit-dimensions (3.13.1)",
   "language": "python",
   "name": "python3"
  },
  "language_info": {
   "codemirror_mode": {
    "name": "ipython",
    "version": 3
   },
   "file_extension": ".py",
   "mimetype": "text/x-python",
   "name": "python",
   "nbconvert_exporter": "python",
   "pygments_lexer": "ipython3",
   "version": "3.13.1"
  }
 },
 "nbformat": 4,
 "nbformat_minor": 5
}
